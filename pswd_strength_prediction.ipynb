{
 "cells": [
  {
   "cell_type": "markdown",
   "id": "72f05418",
   "metadata": {},
   "source": [
    "# Password Strength Predictor\n",
    "\n",
    "This notebook demonstrates a password strength predictor model using an XGBoost classifier. The model is trained on a dataset containing passwords labeled with their respective strength levels. Various features are created, such as password length, frequency of uppercase letters, lowercase letters, numbers, and special characters.\n",
    "\n",
    "The model uses a <u>combination of TF-IDF vectorized features and custom-generated features</u> to predict the strength of a given password, achieving an accuracy of **99.67%**.\n",
    "\n",
    "## Data Source\n",
    "The dataset used for training the model is sourced from Kaggle:\n",
    "[Password Strength Classifier Dataset](https://www.kaggle.com/datasets/bhavikbb/password-strength-classifier-dataset)"
   ]
  },
  {
   "cell_type": "markdown",
   "id": "f779ca11",
   "metadata": {},
   "source": [
    "# Production Model"
   ]
  },
  {
   "cell_type": "code",
   "execution_count": 3,
   "id": "8de70633",
   "metadata": {},
   "outputs": [
    {
     "name": "stdout",
     "output_type": "stream",
     "text": [
      "Cross-validation Scores: [0.99688267 0.99695734 0.99638797 0.99694798 0.99687331]\n",
      "Mean CV Score: 0.9968098526441391\n",
      "              precision    recall  f1-score   support\n",
      "\n",
      "           0       0.98      0.99      0.99     17833\n",
      "           1       1.00      1.00      1.00     99525\n",
      "           2       1.00      1.00      1.00     16570\n",
      "\n",
      "    accuracy                           1.00    133928\n",
      "   macro avg       0.99      1.00      1.00    133928\n",
      "weighted avg       1.00      1.00      1.00    133928\n",
      "\n"
     ]
    },
    {
     "data": {
      "image/png": "[encoded data removed]",
      "text/plain": [
       "<Figure size 640x480 with 2 Axes>"
      ]
     },
     "metadata": {},
     "output_type": "display_data"
    },
    {
     "data": {
      "application/vnd.plotly.v1+json": {
       "config": {
        "plotlyServerURL": "https://plot.ly"
       },
       "data": [
        {
         "alignmentgroup": "True",
         "hovertemplate": "feature_importance=%{x}<br>features=%{y}<extra></extra>",
         "legendgroup": "",
         "marker": {
          "color": "#636efa",
          "pattern": {
           "shape": ""
          }
         },
         "name": "",
         "offsetgroup": "",
         "orientation": "h",
         "showlegend": false,
         "textposition": "auto",
         "type": "bar",
         "x": [
          0.01075588259845972,
          0.010938094928860664,
          0.01097553875297308,
          0.011071327142417431,
          0.01185968890786171,
          0.01388544961810112,
          0.015191558748483658,
          0.015465901233255863,
          0.0168530885130167,
          0.017575355246663094,
          0.01773236319422722,
          0.017842624336481094,
          0.02075090818107128,
          0.021025238558650017,
          0.024937829002738,
          0.028097989037632942,
          0.028401760384440422,
          0.03755858540534973,
          0.09593420475721359,
          0.3591155707836151
         ],
         "xaxis": "x",
         "y": [
          "o",
          "u",
          ".",
          "9",
          "n",
          "k",
          "a",
          "y",
          "3",
          "2",
          "m",
          "j",
          "r",
          "e",
          "i",
          "1",
          "comon_chars",
          "num",
          "small_alpbts",
          "caps_alpbts"
         ],
         "yaxis": "y"
        }
       ],
       "layout": {
        "barmode": "relative",
        "height": 800,
        "legend": {
         "tracegroupgap": 0
        },
        "template": {
         "data": {
          "bar": [
           {
            "error_x": {
             "color": "#2a3f5f"
            },
            "error_y": {
             "color": "#2a3f5f"
            },
            "marker": {
             "line": {
              "color": "#E5ECF6",
              "width": 0.5
             },
             "pattern": {
              "fillmode": "overlay",
              "size": 10,
              "solidity": 0.2
             }
            },
            "type": "bar"
           }
          ],
          "barpolar": [
           {
            "marker": {
             "line": {
              "color": "#E5ECF6",
              "width": 0.5
             },
             "pattern": {
              "fillmode": "overlay",
              "size": 10,
              "solidity": 0.2
             }
            },
            "type": "barpolar"
           }
          ],
          "carpet": [
           {
            "aaxis": {
             "endlinecolor": "#2a3f5f",
             "gridcolor": "white",
             "linecolor": "white",
             "minorgridcolor": "white",
             "startlinecolor": "#2a3f5f"
            },
            "baxis": {
             "endlinecolor": "#2a3f5f",
             "gridcolor": "white",
             "linecolor": "white",
             "minorgridcolor": "white",
             "startlinecolor": "#2a3f5f"
            },
            "type": "carpet"
           }
          ],
          "choropleth": [
           {
            "colorbar": {
             "outlinewidth": 0,
             "ticks": ""
            },
            "type": "choropleth"
           }
          ],
          "contour": [
           {
            "colorbar": {
             "outlinewidth": 0,
             "ticks": ""
            },
            "colorscale": [
             [
              0,
              "#0d0887"
             ],
             [
              0.1111111111111111,
              "#46039f"
             ],
             [
              0.2222222222222222,
              "#7201a8"
             ],
             [
              0.3333333333333333,
              "#9c179e"
             ],
             [
              0.4444444444444444,
              "#bd3786"
             ],
             [
              0.5555555555555556,
              "#d8576b"
             ],
             [
              0.6666666666666666,
              "#ed7953"
             ],
             [
              0.7777777777777778,
              "#fb9f3a"
             ],
             [
              0.8888888888888888,
              "#fdca26"
             ],
             [
              1,
              "#f0f921"
             ]
            ],
            "type": "contour"
           }
          ],
          "contourcarpet": [
           {
            "colorbar": {
             "outlinewidth": 0,
             "ticks": ""
            },
            "type": "contourcarpet"
           }
          ],
          "heatmap": [
           {
            "colorbar": {
             "outlinewidth": 0,
             "ticks": ""
            },
            "colorscale": [
             [
              0,
              "#0d0887"
             ],
             [
              0.1111111111111111,
              "#46039f"
             ],
             [
              0.2222222222222222,
              "#7201a8"
             ],
             [
              0.3333333333333333,
              "#9c179e"
             ],
             [
              0.4444444444444444,
              "#bd3786"
             ],
             [
              0.5555555555555556,
              "#d8576b"
             ],
             [
              0.6666666666666666,
              "#ed7953"
             ],
             [
              0.7777777777777778,
              "#fb9f3a"
             ],
             [
              0.8888888888888888,
              "#fdca26"
             ],
             [
              1,
              "#f0f921"
             ]
            ],
            "type": "heatmap"
           }
          ],
          "heatmapgl": [
           {
            "colorbar": {
             "outlinewidth": 0,
             "ticks": ""
            },
            "colorscale": [
             [
              0,
              "#0d0887"
             ],
             [
              0.1111111111111111,
              "#46039f"
             ],
             [
              0.2222222222222222,
              "#7201a8"
             ],
             [
              0.3333333333333333,
              "#9c179e"
             ],
             [
              0.4444444444444444,
              "#bd3786"
             ],
             [
              0.5555555555555556,
              "#d8576b"
             ],
             [
              0.6666666666666666,
              "#ed7953"
             ],
             [
              0.7777777777777778,
              "#fb9f3a"
             ],
             [
              0.8888888888888888,
              "#fdca26"
             ],
             [
              1,
              "#f0f921"
             ]
            ],
            "type": "heatmapgl"
           }
          ],
          "histogram": [
           {
            "marker": {
             "pattern": {
              "fillmode": "overlay",
              "size": 10,
              "solidity": 0.2
             }
            },
            "type": "histogram"
           }
          ],
          "histogram2d": [
           {
            "colorbar": {
             "outlinewidth": 0,
             "ticks": ""
            },
            "colorscale": [
             [
              0,
              "#0d0887"
             ],
             [
              0.1111111111111111,
              "#46039f"
             ],
             [
              0.2222222222222222,
              "#7201a8"
             ],
             [
              0.3333333333333333,
              "#9c179e"
             ],
             [
              0.4444444444444444,
              "#bd3786"
             ],
             [
              0.5555555555555556,
              "#d8576b"
             ],
             [
              0.6666666666666666,
              "#ed7953"
             ],
             [
              0.7777777777777778,
              "#fb9f3a"
             ],
             [
              0.8888888888888888,
              "#fdca26"
             ],
             [
              1,
              "#f0f921"
             ]
            ],
            "type": "histogram2d"
           }
          ],
          "histogram2dcontour": [
           {
            "colorbar": {
             "outlinewidth": 0,
             "ticks": ""
            },
            "colorscale": [
             [
              0,
              "#0d0887"
             ],
             [
              0.1111111111111111,
              "#46039f"
             ],
             [
              0.2222222222222222,
              "#7201a8"
             ],
             [
              0.3333333333333333,
              "#9c179e"
             ],
             [
              0.4444444444444444,
              "#bd3786"
             ],
             [
              0.5555555555555556,
              "#d8576b"
             ],
             [
              0.6666666666666666,
              "#ed7953"
             ],
             [
              0.7777777777777778,
              "#fb9f3a"
             ],
             [
              0.8888888888888888,
              "#fdca26"
             ],
             [
              1,
              "#f0f921"
             ]
            ],
            "type": "histogram2dcontour"
           }
          ],
          "mesh3d": [
           {
            "colorbar": {
             "outlinewidth": 0,
             "ticks": ""
            },
            "type": "mesh3d"
           }
          ],
          "parcoords": [
           {
            "line": {
             "colorbar": {
              "outlinewidth": 0,
              "ticks": ""
             }
            },
            "type": "parcoords"
           }
          ],
          "pie": [
           {
            "automargin": true,
            "type": "pie"
           }
          ],
          "scatter": [
           {
            "fillpattern": {
             "fillmode": "overlay",
             "size": 10,
             "solidity": 0.2
            },
            "type": "scatter"
           }
          ],
          "scatter3d": [
           {
            "line": {
             "colorbar": {
              "outlinewidth": 0,
              "ticks": ""
             }
            },
            "marker": {
             "colorbar": {
              "outlinewidth": 0,
              "ticks": ""
             }
            },
            "type": "scatter3d"
           }
          ],
          "scattercarpet": [
           {
            "marker": {
             "colorbar": {
              "outlinewidth": 0,
              "ticks": ""
             }
            },
            "type": "scattercarpet"
           }
          ],
          "scattergeo": [
           {
            "marker": {
             "colorbar": {
              "outlinewidth": 0,
              "ticks": ""
             }
            },
            "type": "scattergeo"
           }
          ],
          "scattergl": [
           {
            "marker": {
             "colorbar": {
              "outlinewidth": 0,
              "ticks": ""
             }
            },
            "type": "scattergl"
           }
          ],
          "scattermapbox": [
           {
            "marker": {
             "colorbar": {
              "outlinewidth": 0,
              "ticks": ""
             }
            },
            "type": "scattermapbox"
           }
          ],
          "scatterpolar": [
           {
            "marker": {
             "colorbar": {
              "outlinewidth": 0,
              "ticks": ""
             }
            },
            "type": "scatterpolar"
           }
          ],
          "scatterpolargl": [
           {
            "marker": {
             "colorbar": {
              "outlinewidth": 0,
              "ticks": ""
             }
            },
            "type": "scatterpolargl"
           }
          ],
          "scatterternary": [
           {
            "marker": {
             "colorbar": {
              "outlinewidth": 0,
              "ticks": ""
             }
            },
            "type": "scatterternary"
           }
          ],
          "surface": [
           {
            "colorbar": {
             "outlinewidth": 0,
             "ticks": ""
            },
            "colorscale": [
             [
              0,
              "#0d0887"
             ],
             [
              0.1111111111111111,
              "#46039f"
             ],
             [
              0.2222222222222222,
              "#7201a8"
             ],
             [
              0.3333333333333333,
              "#9c179e"
             ],
             [
              0.4444444444444444,
              "#bd3786"
             ],
             [
              0.5555555555555556,
              "#d8576b"
             ],
             [
              0.6666666666666666,
              "#ed7953"
             ],
             [
              0.7777777777777778,
              "#fb9f3a"
             ],
             [
              0.8888888888888888,
              "#fdca26"
             ],
             [
              1,
              "#f0f921"
             ]
            ],
            "type": "surface"
           }
          ],
          "table": [
           {
            "cells": {
             "fill": {
              "color": "#EBF0F8"
             },
             "line": {
              "color": "white"
             }
            },
            "header": {
             "fill": {
              "color": "#C8D4E3"
             },
             "line": {
              "color": "white"
             }
            },
            "type": "table"
           }
          ]
         },
         "layout": {
          "annotationdefaults": {
           "arrowcolor": "#2a3f5f",
           "arrowhead": 0,
           "arrowwidth": 1
          },
          "autotypenumbers": "strict",
          "coloraxis": {
           "colorbar": {
            "outlinewidth": 0,
            "ticks": ""
           }
          },
          "colorscale": {
           "diverging": [
            [
             0,
             "#8e0152"
            ],
            [
             0.1,
             "#c51b7d"
            ],
            [
             0.2,
             "#de77ae"
            ],
            [
             0.3,
             "#f1b6da"
            ],
            [
             0.4,
             "#fde0ef"
            ],
            [
             0.5,
             "#f7f7f7"
            ],
            [
             0.6,
             "#e6f5d0"
            ],
            [
             0.7,
             "#b8e186"
            ],
            [
             0.8,
             "#7fbc41"
            ],
            [
             0.9,
             "#4d9221"
            ],
            [
             1,
             "#276419"
            ]
           ],
           "sequential": [
            [
             0,
             "#0d0887"
            ],
            [
             0.1111111111111111,
             "#46039f"
            ],
            [
             0.2222222222222222,
             "#7201a8"
            ],
            [
             0.3333333333333333,
             "#9c179e"
            ],
            [
             0.4444444444444444,
             "#bd3786"
            ],
            [
             0.5555555555555556,
             "#d8576b"
            ],
            [
             0.6666666666666666,
             "#ed7953"
            ],
            [
             0.7777777777777778,
             "#fb9f3a"
            ],
            [
             0.8888888888888888,
             "#fdca26"
            ],
            [
             1,
             "#f0f921"
            ]
           ],
           "sequentialminus": [
            [
             0,
             "#0d0887"
            ],
            [
             0.1111111111111111,
             "#46039f"
            ],
            [
             0.2222222222222222,
             "#7201a8"
            ],
            [
             0.3333333333333333,
             "#9c179e"
            ],
            [
             0.4444444444444444,
             "#bd3786"
            ],
            [
             0.5555555555555556,
             "#d8576b"
            ],
            [
             0.6666666666666666,
             "#ed7953"
            ],
            [
             0.7777777777777778,
             "#fb9f3a"
            ],
            [
             0.8888888888888888,
             "#fdca26"
            ],
            [
             1,
             "#f0f921"
            ]
           ]
          },
          "colorway": [
           "#636efa",
           "#EF553B",
           "#00cc96",
           "#ab63fa",
           "#FFA15A",
           "#19d3f3",
           "#FF6692",
           "#B6E880",
           "#FF97FF",
           "#FECB52"
          ],
          "font": {
           "color": "#2a3f5f"
          },
          "geo": {
           "bgcolor": "white",
           "lakecolor": "white",
           "landcolor": "#E5ECF6",
           "showlakes": true,
           "showland": true,
           "subunitcolor": "white"
          },
          "hoverlabel": {
           "align": "left"
          },
          "hovermode": "closest",
          "mapbox": {
           "style": "light"
          },
          "paper_bgcolor": "white",
          "plot_bgcolor": "#E5ECF6",
          "polar": {
           "angularaxis": {
            "gridcolor": "white",
            "linecolor": "white",
            "ticks": ""
           },
           "bgcolor": "#E5ECF6",
           "radialaxis": {
            "gridcolor": "white",
            "linecolor": "white",
            "ticks": ""
           }
          },
          "scene": {
           "xaxis": {
            "backgroundcolor": "#E5ECF6",
            "gridcolor": "white",
            "gridwidth": 2,
            "linecolor": "white",
            "showbackground": true,
            "ticks": "",
            "zerolinecolor": "white"
           },
           "yaxis": {
            "backgroundcolor": "#E5ECF6",
            "gridcolor": "white",
            "gridwidth": 2,
            "linecolor": "white",
            "showbackground": true,
            "ticks": "",
            "zerolinecolor": "white"
           },
           "zaxis": {
            "backgroundcolor": "#E5ECF6",
            "gridcolor": "white",
            "gridwidth": 2,
            "linecolor": "white",
            "showbackground": true,
            "ticks": "",
            "zerolinecolor": "white"
           }
          },
          "shapedefaults": {
           "line": {
            "color": "#2a3f5f"
           }
          },
          "ternary": {
           "aaxis": {
            "gridcolor": "white",
            "linecolor": "white",
            "ticks": ""
           },
           "baxis": {
            "gridcolor": "white",
            "linecolor": "white",
            "ticks": ""
           },
           "bgcolor": "#E5ECF6",
           "caxis": {
            "gridcolor": "white",
            "linecolor": "white",
            "ticks": ""
           }
          },
          "title": {
           "x": 0.05
          },
          "xaxis": {
           "automargin": true,
           "gridcolor": "white",
           "linecolor": "white",
           "ticks": "",
           "title": {
            "standoff": 15
           },
           "zerolinecolor": "white",
           "zerolinewidth": 2
          },
          "yaxis": {
           "automargin": true,
           "gridcolor": "white",
           "linecolor": "white",
           "ticks": "",
           "title": {
            "standoff": 15
           },
           "zerolinecolor": "white",
           "zerolinewidth": 2
          }
         }
        },
        "title": {
         "text": "Feature Importance"
        },
        "xaxis": {
         "anchor": "y",
         "domain": [
          0,
          1
         ],
         "title": {
          "text": "feature_importance"
         }
        },
        "yaxis": {
         "anchor": "x",
         "domain": [
          0,
          1
         ],
         "title": {
          "text": "Top 20 Features"
         }
        }
       }
      }
     },
     "metadata": {},
     "output_type": "display_data"
    }
   ],
   "source": [
    "import warnings\n",
    "warnings.filterwarnings(\"ignore\")\n",
    "\n",
    "import numpy as np\n",
    "import pandas as pd\n",
    "import os\n",
    "import re\n",
    "\n",
    "from sklearn.feature_extraction.text import TfidfVectorizer\n",
    "from sklearn.model_selection import train_test_split, cross_val_score\n",
    "from sklearn.metrics import classification_report, confusion_matrix\n",
    "import xgboost as xgb\n",
    "\n",
    "import matplotlib.pyplot as plt\n",
    "import seaborn as sns\n",
    "import plotly.express as px\n",
    "\n",
    "path = os.getcwd() + '/data.csv'\n",
    "df_raw = pd.read_csv(path, on_bad_lines='skip')\n",
    "\n",
    "class mrsimz_password_prod_model():\n",
    "    def __init__(self, test_split : float = 0.2, randomizer : int = 42, xgb_param : dict = None, model_report : bool = True) -> None:\n",
    "        self.test_split = test_split\n",
    "        self.randomizer = randomizer\n",
    "        self.model_report = model_report\n",
    "        if xgb_param is None:\n",
    "            self.xgb_param = {\n",
    "                                'colsample_bytree': 1.0, \n",
    "                                'gamma': 0.1, \n",
    "                                'learning_rate': 0.2, \n",
    "                                'max_depth': 5, \n",
    "                                'n_estimators': 200, \n",
    "                                'reg_alpha': 0, \n",
    "                                'reg_lambda': 1.5, \n",
    "                                'subsample': 0.8,\n",
    "                                'objective': 'binary:logistic'\n",
    "                            }\n",
    "        else:\n",
    "            self.xgb_param = xgb_param\n",
    "    \n",
    "    def feature_creation(self, df : pd.DataFrame) -> pd.DataFrame:\n",
    "        df_raw.dropna(inplace=True)\n",
    "        df['password'] = df['password'].astype(str)\n",
    "        df['length'] = df['password'].apply(len)\n",
    "        df['caps_alpbts'] = df['password'].apply(lambda x : len(re.findall('[A-Z]', x)))/df['length']\n",
    "        df['small_alpbts'] = df['password'].apply(lambda x : len(re.findall('[a-z]', x)))/df['length']\n",
    "        df['num'] = df['password'].apply(lambda x : len(re.findall('[0-9]', x)))/df['length']\n",
    "        df['comon_chars'] = df['password'].apply(lambda x : len(re.findall('[@_!#$%^&*()<>?/\\\\|{ }~:\\\\[\\\\]]', x)))/df['length']\n",
    "        df['unique_chars'] = df['password'].apply(lambda x : len(re.findall('[^a-zA-Z0-9@_!#$%^&*()+-<>?/\\|{ }~:\\\\[\\\\]]', x)))/df['length']\n",
    "        return df\n",
    "    \n",
    "    def data_prep(self, data):\n",
    "        if isinstance(data, str):\n",
    "            processed_data = pd.DataFrame({'password':[data]})\n",
    "        elif isinstance(data, (np.ndarray, list)):\n",
    "            processed_data = pd.DataFrame({'password':data})\n",
    "        else:\n",
    "            raise ValueError(\"Input data must be a string, list, or numpy array\")\n",
    "\n",
    "        processed_data = self.feature_creation(processed_data)\n",
    "        temp = self.tfidf.transform(processed_data[\"password\"].values).toarray()\n",
    "\n",
    "        return np.concatenate((temp, processed_data.iloc[:,2:]), axis=1)\n",
    "\n",
    "    def fit(self, df_raw : pd.DataFrame):\n",
    "        \n",
    "        # Custom features genrated which will have frequency of character type\n",
    "        df_new = self.feature_creation(df_raw.copy())\n",
    "\n",
    "        x_temp = df_new[\"password\"].values\n",
    "        y = df_new[\"strength\"].values\n",
    "\n",
    "        # Creating vectorized characters as features\n",
    "        self.tfidf = TfidfVectorizer(analyzer='char', lowercase=False, token_pattern=None)\n",
    "        x_temp_2 = self.tfidf.fit_transform(x_temp).toarray()\n",
    "\n",
    "        # Combining both the feature set\n",
    "        x = np.concatenate((x_temp_2, df_new.iloc[:,3:]), axis=1)\n",
    "\n",
    "        x_train, x_test, y_train, y_test = train_test_split(x, y, random_state=self.randomizer, test_size=self.test_split)\n",
    "\n",
    "        self.model = xgb.XGBClassifier(**self.xgb_param)\n",
    "        self.model.fit(x_train, y_train)\n",
    "\n",
    "        if self.model_report:\n",
    "    \n",
    "            cv_scores = cross_val_score(self.model, x_train, y_train, cv=5, scoring='accuracy', n_jobs=-1)\n",
    "            print(\"Cross-validation Scores:\", cv_scores)\n",
    "            print(\"Mean CV Score:\", np.mean(cv_scores))\n",
    "\n",
    "            print(classification_report(y_test, self.model.predict(x_test)))\n",
    "\n",
    "            sns.heatmap(confusion_matrix(y_test, self.model.predict(x_test)), annot=True, annot_kws={'size':14}, fmt='d')\n",
    "            plt.title('Confusion Matrix')\n",
    "            plt.xlabel('Predicted')\n",
    "            plt.ylabel('Actuals')\n",
    "            plt.show()\n",
    "\n",
    "            self.feature_df = pd.DataFrame({'features':np.concatenate((self.tfidf.get_feature_names_out(), df_new.columns[3:])), 'feature_importance':self.model.feature_importances_}).sort_values(by='feature_importance', ascending=True)\n",
    "            fig = px.bar(self.feature_df.tail(20), y='features', x='feature_importance', title='Feature Importance', height=800)\n",
    "            fig.update_yaxes(title_text='Top 20 Features')\n",
    "            fig.show()\n",
    "\n",
    "    def predict(self, password):\n",
    "        return self.model.predict(self.data_prep(password))\n",
    "\n",
    "    def predict_proba(self, password):\n",
    "        return self.model.predict_proba(self.data_prep(password))\n",
    "    \n",
    "prod_model = mrsimz_password_prod_model()\n",
    "prod_model.fit(df_raw)"
   ]
  },
  {
   "cell_type": "code",
   "execution_count": 4,
   "id": "d15b830b",
   "metadata": {},
   "outputs": [
    {
     "name": "stdout",
     "output_type": "stream",
     "text": [
      "Prediction for \n",
      "['fow', 'My8%¨ˇ', 'fow Mmmmm', 'nkvds3212nkVnks', 'AAA', 'AAAAAAAAAA', 'AAAAAAAAAAAAAAAAAAAAAAAAAAAAAAAAAAAAAA'] \n",
      "[0 2 1 2 0 0 0]\n"
     ]
    }
   ],
   "source": [
    "user = [\"fow\", 'My8%¨ˇ', \"fow Mmmmm\", 'nkvds3212nkVnks', 'AAA', 'AAAAAAAAAA', 'AAAAAAAAAAAAAAAAAAAAAAAAAAAAAAAAAAAAAA']\n",
    "prediction = prod_model.predict(user)\n",
    "print(f\"Prediction for \\n{user} \\n{prediction}\")"
   ]
  },
  {
   "cell_type": "markdown",
   "id": "66566799",
   "metadata": {},
   "source": [
    "## Production Candidates"
   ]
  },
  {
   "cell_type": "markdown",
   "id": "4aab4053",
   "metadata": {},
   "source": [
    "### Initilizing Libraries"
   ]
  },
  {
   "cell_type": "code",
   "execution_count": null,
   "id": "d9a10f71",
   "metadata": {},
   "outputs": [],
   "source": [
    "import warnings\n",
    "warnings.filterwarnings(\"ignore\")\n",
    "\n",
    "import numpy as np\n",
    "import pandas as pd\n",
    "import os\n",
    "import re\n",
    "\n",
    "from sklearn.feature_extraction.text import TfidfVectorizer\n",
    "from sklearn.model_selection import train_test_split, cross_val_score\n",
    "from sklearn.metrics import accuracy_score, classification_report, confusion_matrix\n",
    "import xgboost as xgb\n",
    "\n",
    "import matplotlib.pyplot as plt\n",
    "import seaborn as sns\n",
    "import plotly.express as px\n",
    "\n",
    "path = os.getcwd() + '/data.csv'\n",
    "df_raw = pd.read_csv(path, on_bad_lines='skip')"
   ]
  },
  {
   "cell_type": "markdown",
   "id": "4ea683a7",
   "metadata": {},
   "source": [
    "### Model 1 : Custom Features Only"
   ]
  },
  {
   "cell_type": "code",
   "execution_count": null,
   "id": "07441509",
   "metadata": {},
   "outputs": [],
   "source": [
    "class mrsimz_password_model_1():\n",
    "\n",
    "    def __init__(self, test_split : float = 0.2, randomizer : int = 42, xgb_param : dict = None, model_report : bool = True) -> None:\n",
    "        self.test_split = test_split\n",
    "        self.randomizer = randomizer\n",
    "        self.model_report = model_report\n",
    "        if xgb_param is None:\n",
    "            self.xgb_param = {\n",
    "                                'colsample_bytree': 1.0, \n",
    "                                'gamma': 0.1, \n",
    "                                'learning_rate': 0.2, \n",
    "                                'max_depth': 5, \n",
    "                                'n_estimators': 200, \n",
    "                                'reg_alpha': 0, \n",
    "                                'reg_lambda': 1.5, \n",
    "                                'subsample': 0.8,\n",
    "                                'objective': 'binary:logistic'\n",
    "                            }\n",
    "        else:\n",
    "            self.xgb_param = xgb_param\n",
    "\n",
    "    def feature_creation(self, df : pd.DataFrame) -> pd.DataFrame:\n",
    "        df_raw.dropna(inplace=True)\n",
    "        df['password'] = df['password'].astype(str)\n",
    "        df['length'] = df['password'].apply(len)\n",
    "        df['caps_alpbts'] = df['password'].apply(lambda x : len(re.findall('[A-Z]', x)))/df['length']\n",
    "        df['small_alpbts'] = df['password'].apply(lambda x : len(re.findall('[a-z]', x)))/df['length']\n",
    "        df['num'] = df['password'].apply(lambda x : len(re.findall('[0-9]', x)))/df['length']\n",
    "        df['comon_chars'] = df['password'].apply(lambda x : len(re.findall('[@_!#$%^&*()<>?/\\\\|{ }~:\\\\[\\\\]]', x)))/df['length']\n",
    "        df['unique_chars'] = df['password'].apply(lambda x : len(re.findall('[^a-zA-Z0-9@_!#$%^&*()+-<>?/\\|{ }~:\\\\[\\\\]]', x)))/df['length']\n",
    "        return df\n",
    "\n",
    "    def data_prep(self, data):\n",
    "        if isinstance(data, str):\n",
    "            processed_data = pd.DataFrame({'password':[data]})\n",
    "        elif isinstance(data, (np.ndarray, list)):\n",
    "            processed_data = pd.DataFrame({'password':data})\n",
    "        else:\n",
    "            raise ValueError(\"Input data must be a string, list, or numpy array\")\n",
    "    \n",
    "        processed_data = self.feature_creation(processed_data)\n",
    "        return processed_data.drop(columns=['password', 'length'])\n",
    "\n",
    "    def fit(self, df_raw):\n",
    "        df_processed = self.feature_creation(df_raw.copy())\n",
    "\n",
    "        x = df_processed.drop(columns=['password', 'length', 'strength'])\n",
    "        y = df_processed['strength'].values\n",
    "\n",
    "        x_train, x_test, y_train, y_test = train_test_split(x, y, test_size=self.test_split, random_state=self.randomizer)\n",
    "\n",
    "        self.model = xgb.XGBClassifier(**self.xgb_param)\n",
    "        self.model.fit(x_train, y_train)\n",
    "\n",
    "        # Model Report\n",
    "        if self.model_report:\n",
    "            y_pred = self.model.predict(x_test)\n",
    "\n",
    "            print('Accuracy Score :', accuracy_score(y_test, y_pred))\n",
    "\n",
    "            # Heat Map\n",
    "            plt.figure(figsize=(8, 6))\n",
    "            \n",
    "            sns.heatmap(confusion_matrix(y_test, y_pred), fmt='d', annot=True, annot_kws={'size':14})\n",
    "            plt.title('Confusion Matrix')\n",
    "            plt.xlabel('Predicted Values')\n",
    "            plt.ylabel('Actuals')\n",
    "\n",
    "            # Feature Importance\n",
    "            feature_imp_df = pd.DataFrame({'features' : self.model.get_booster().feature_names, 'feature_importance' : self.model.feature_importances_}).sort_values(by=['feature_importance'], ascending=[False])\n",
    "            fig = px.bar(feature_imp_df, x='features', y='feature_importance')\n",
    "            fig.show()\n",
    "\n",
    "            print(classification_report(y_test, y_pred))\n",
    "\n",
    "    def predict(self, password):\n",
    "        return self.model.predict(self.data_prep(password))\n",
    "    \n",
    "    def predict_proba(self, password):\n",
    "        return self.model.predict_proba(self.data_prep(password))\n",
    "\n",
    "\n",
    "my_model_1 = mrsimz_password_model_1()\n",
    "my_model_1.fit(df_raw)"
   ]
  },
  {
   "cell_type": "markdown",
   "id": "19d2ef14",
   "metadata": {},
   "source": [
    "### Model 2 : TFIDF Only"
   ]
  },
  {
   "cell_type": "code",
   "execution_count": null,
   "id": "1dcc8ce3",
   "metadata": {},
   "outputs": [],
   "source": [
    "class mrsimz_password_model_2():\n",
    "    def __init__(self, test_split : float = 0.2, randomizer : int = 42, xgb_param : dict = None, model_report : bool = True) -> None:\n",
    "        self.test_split = test_split\n",
    "        self.randomizer = randomizer\n",
    "        self.model_report = model_report\n",
    "        if xgb_param is None:\n",
    "            self.xgb_param = {\n",
    "                                'colsample_bytree': 1.0, \n",
    "                                'gamma': 0.1, \n",
    "                                'learning_rate': 0.2, \n",
    "                                'max_depth': 5, \n",
    "                                'n_estimators': 200, \n",
    "                                'reg_alpha': 0, \n",
    "                                'reg_lambda': 1.5, \n",
    "                                'subsample': 0.8,\n",
    "                                'objective': 'binary:logistic'\n",
    "                            }\n",
    "        else:\n",
    "            self.xgb_param = xgb_param\n",
    "\n",
    "    def fit(self, df_raw : pd.DataFrame):\n",
    "        df_raw.dropna(inplace=True)\n",
    "\n",
    "        x = df_raw[\"password\"].values\n",
    "        y = df_raw[\"strength\"].values\n",
    "\n",
    "        self.tfidf = TfidfVectorizer(analyzer='char', lowercase=False, token_pattern=None)\n",
    "        x = self.tfidf.fit_transform(x)\n",
    "\n",
    "        x_train, x_test, y_train, y_test = train_test_split(x, y, random_state=self.randomizer, test_size=self.test_split)\n",
    "\n",
    "        self.model = xgb.XGBClassifier(**self.xgb_param)\n",
    "        self.model.fit(x_train, y_train)\n",
    "\n",
    "        if self.model_report:\n",
    "            y_pred = self.model.predict(x_test)\n",
    "            print('Model Accuracy :', self.model.score(x_test, y_test))\n",
    "            print(classification_report(y_test, y_pred))\n",
    "\n",
    "            sns.heatmap(confusion_matrix(y_test, y_pred), annot=True, annot_kws={'size':14}, fmt='d')\n",
    "            plt.title('Confusion Matrix')\n",
    "            plt.xlabel('Predicted')\n",
    "            plt.ylabel('Actuals')\n",
    "            plt.show()\n",
    "\n",
    "            self.feature_df = pd.DataFrame({'features':self.tfidf.get_feature_names_out(), 'feature_importance':self.model.feature_importances_}).sort_values(by='feature_importance', ascending=True)\n",
    "            fig = px.bar(self.feature_df.tail(20), y='features', x='feature_importance', title='Feature Importance', height=800)\n",
    "            fig.update_yaxes(title_text='Top 20 Features')\n",
    "            fig.show()\n",
    "\n",
    "    def predict(self, password):\n",
    "        return self.model.predict(self.tfidf.transform(password))\n",
    "\n",
    "    def predict_proba(self, password):\n",
    "        return self.model.predict_proba(self.tfidf.transform(password))\n",
    "    \n",
    "my_model_2 = mrsimz_password_model_2()\n",
    "my_model_2.fit(df_raw)"
   ]
  },
  {
   "cell_type": "markdown",
   "id": "b352396e",
   "metadata": {},
   "source": [
    "### Model 3 : Combination"
   ]
  },
  {
   "cell_type": "code",
   "execution_count": null,
   "id": "e50c61d3",
   "metadata": {},
   "outputs": [],
   "source": [
    "class mrsimz_password_model_3():\n",
    "    def __init__(self, test_split : float = 0.2, randomizer : int = 42, xgb_param : dict = None, model_report : bool = True) -> None:\n",
    "        self.test_split = test_split\n",
    "        self.randomizer = randomizer\n",
    "        self.model_report = model_report\n",
    "        if xgb_param is None:\n",
    "            self.xgb_param = {\n",
    "                                'colsample_bytree': 1.0, \n",
    "                                'gamma': 0.1, \n",
    "                                'learning_rate': 0.2, \n",
    "                                'max_depth': 5, \n",
    "                                'n_estimators': 200, \n",
    "                                'reg_alpha': 0, \n",
    "                                'reg_lambda': 1.5, \n",
    "                                'subsample': 0.8,\n",
    "                                'objective': 'binary:logistic'\n",
    "                            }\n",
    "        else:\n",
    "            self.xgb_param = xgb_param\n",
    "    \n",
    "    def feature_creation(self, df : pd.DataFrame) -> pd.DataFrame:\n",
    "        df_raw.dropna(inplace=True)\n",
    "        df['password'] = df['password'].astype(str)\n",
    "        df['length'] = df['password'].apply(len)\n",
    "        df['caps_alpbts'] = df['password'].apply(lambda x : len(re.findall('[A-Z]', x)))/df['length']\n",
    "        df['small_alpbts'] = df['password'].apply(lambda x : len(re.findall('[a-z]', x)))/df['length']\n",
    "        df['num'] = df['password'].apply(lambda x : len(re.findall('[0-9]', x)))/df['length']\n",
    "        df['comon_chars'] = df['password'].apply(lambda x : len(re.findall('[@_!#$%^&*()<>?/\\\\|{ }~:\\\\[\\\\]]', x)))/df['length']\n",
    "        df['unique_chars'] = df['password'].apply(lambda x : len(re.findall('[^a-zA-Z0-9@_!#$%^&*()+-<>?/\\|{ }~:\\\\[\\\\]]', x)))/df['length']\n",
    "        return df\n",
    "    \n",
    "    def data_prep(self, data):\n",
    "        if isinstance(data, str):\n",
    "            processed_data = pd.DataFrame({'password':[data]})\n",
    "        elif isinstance(data, (np.ndarray, list)):\n",
    "            processed_data = pd.DataFrame({'password':data})\n",
    "        else:\n",
    "            raise ValueError(\"Input data must be a string, list, or numpy array\")\n",
    "\n",
    "        processed_data = self.feature_creation(processed_data)\n",
    "        temp = self.tfidf.transform(processed_data[\"password\"].values).toarray()\n",
    "\n",
    "        return np.concatenate((temp, processed_data.iloc[:,2:]), axis=1)\n",
    "\n",
    "    def fit(self, df_raw : pd.DataFrame):\n",
    "\n",
    "        df_new = self.feature_creation(df_raw.copy())\n",
    "\n",
    "        x_temp = df_new[\"password\"].values\n",
    "        y = df_new[\"strength\"].values\n",
    "\n",
    "        self.tfidf = TfidfVectorizer(analyzer='char', lowercase=False, token_pattern=None)\n",
    "        x_temp_2 = self.tfidf.fit_transform(x_temp).toarray()\n",
    "\n",
    "        x = np.concatenate((x_temp_2, df_new.iloc[:,3:]), axis=1)\n",
    "\n",
    "        x_train, x_test, y_train, y_test = train_test_split(x, y, random_state=self.randomizer, test_size=self.test_split)\n",
    "\n",
    "        self.model = xgb.XGBClassifier(**self.xgb_param)\n",
    "        self.model.fit(x_train, y_train)\n",
    "\n",
    "        if self.model_report:\n",
    "    \n",
    "            # cv_scores = cross_val_score(self.model, x_train, y_train, cv=5, scoring='accuracy', n_jobs=-1)\n",
    "            # print(\"Cross-validation Scores:\", cv_scores)\n",
    "            # print(\"Mean CV Score:\", np.mean(cv_scores))\n",
    "\n",
    "            print(classification_report(y_test, self.model.predict(x_test)))\n",
    "\n",
    "            sns.heatmap(confusion_matrix(y_test, self.model.predict(x_test)), annot=True, annot_kws={'size':14}, fmt='d')\n",
    "            plt.title('Confusion Matrix')\n",
    "            plt.xlabel('Predicted')\n",
    "            plt.ylabel('Actuals')\n",
    "            plt.show()\n",
    "\n",
    "            self.feature_df = pd.DataFrame({'features':np.concatenate((self.tfidf.get_feature_names_out(), df_new.columns[3:])), 'feature_importance':self.model.feature_importances_}).sort_values(by='feature_importance', ascending=True)\n",
    "            fig = px.bar(self.feature_df.tail(20), y='features', x='feature_importance', title='Feature Importance', height=800)\n",
    "            fig.update_yaxes(title_text='Top 20 Features')\n",
    "            fig.show()\n",
    "\n",
    "    def predict(self, password):\n",
    "        return self.model.predict(self.data_prep(password))\n",
    "\n",
    "    def predict_proba(self, password):\n",
    "        return self.model.predict_proba(self.data_prep(password))\n",
    "    \n",
    "my_model_3 = mrsimz_password_model_3()\n",
    "my_model_3.fit(df_raw)"
   ]
  },
  {
   "cell_type": "code",
   "execution_count": null,
   "id": "83d80ca1",
   "metadata": {},
   "outputs": [],
   "source": [
    "user = [\"fow\", 'My8%¨ˇ', \"fow Mmmmm\", 'nkvds3212nkVnks', 'ds9n3VnkJM', 'AAAAAAAAAAAAAAAAAAAAAAAAAAAAAAAAAAAAAA']\n",
    "prediction_1 = my_model_1.predict(user)\n",
    "prediction_2 = my_model_2.predict(user)\n",
    "prediction_3 = my_model_3.predict(user)\n",
    "print(f\"Prediction for '{user}' from approach 1: {prediction_1}\")\n",
    "print(f\"Prediction for '{user}' from approach 2: {prediction_2}\")\n",
    "print(f\"Prediction for '{user}' from approach 3: {prediction_3}\")"
   ]
  },
  {
   "cell_type": "markdown",
   "id": "8b4bbb09",
   "metadata": {},
   "source": [
    "## Data and Model Exploration\n",
    "\n",
    "Note : Just to be used to see how I worked and tried different approaches before finalizing the prod approach "
   ]
  },
  {
   "cell_type": "markdown",
   "id": "ce8ada45-6035-45c1-a6d8-96650c4eee9a",
   "metadata": {},
   "source": [
    "### Initilizing"
   ]
  },
  {
   "cell_type": "code",
   "execution_count": null,
   "id": "8a6e91ca-a2bd-401c-9c87-2f866241285e",
   "metadata": {},
   "outputs": [],
   "source": [
    "%matplotlib inline\n",
    "import pandas as pd\n",
    "import numpy as np\n",
    "import os\n",
    "import re\n",
    "import plotly.express as px\n",
    "from ydata_profiling import ProfileReport\n",
    "from sklearn.model_selection import train_test_split\n",
    "from sklearn.linear_model import LogisticRegression\n",
    "import xgboost as xgb\n",
    "from sklearn.metrics import accuracy_score, confusion_matrix, classification_report\n",
    "import matplotlib.pyplot as plt\n",
    "import seaborn as sns\n",
    "from sklearn.model_selection import GridSearchCV, RandomizedSearchCV\n",
    "from skopt import BayesSearchCV\n",
    "from sklearn.compose import ColumnTransformer\n",
    "from sklearn.preprocessing import FunctionTransformer\n",
    "from sklearn.pipeline import Pipeline"
   ]
  },
  {
   "cell_type": "code",
   "execution_count": null,
   "id": "dd4de4f1-9029-4cb0-8c33-a59e5726f036",
   "metadata": {},
   "outputs": [],
   "source": [
    "path = os.getcwd() + '/data.csv'\n",
    "\n",
    "df_raw = pd.read_csv(path, on_bad_lines='skip')\n",
    "df_raw.shape"
   ]
  },
  {
   "cell_type": "markdown",
   "id": "62e8b1b6",
   "metadata": {},
   "source": [
    "### Approach 1 : Feature based"
   ]
  },
  {
   "cell_type": "markdown",
   "id": "adea5ead-96af-4c65-a474-46d2a567a022",
   "metadata": {},
   "source": [
    "#### EDA Phase 1"
   ]
  },
  {
   "cell_type": "code",
   "execution_count": null,
   "id": "a656472f-6784-4f79-bc61-d77ccff329d9",
   "metadata": {},
   "outputs": [],
   "source": [
    "df_raw.head()"
   ]
  },
  {
   "cell_type": "code",
   "execution_count": null,
   "id": "db019d8b-4388-430b-ad33-523c517b0bfa",
   "metadata": {},
   "outputs": [],
   "source": [
    "df_raw.duplicated().sum()"
   ]
  },
  {
   "cell_type": "code",
   "execution_count": null,
   "id": "c8ca12eb-84fc-4f54-ae18-8d691cb75456",
   "metadata": {},
   "outputs": [],
   "source": [
    "df_raw.isnull().sum()"
   ]
  },
  {
   "cell_type": "code",
   "execution_count": null,
   "id": "edf49839-4c9f-4e5f-b502-dc0395f4fd92",
   "metadata": {},
   "outputs": [],
   "source": [
    "df_raw.dropna(inplace=True)"
   ]
  },
  {
   "cell_type": "code",
   "execution_count": null,
   "id": "fa308dee-cde3-42b9-adad-e7e840cdfd9f",
   "metadata": {
    "scrolled": true
   },
   "outputs": [],
   "source": [
    "df_raw['strength'].value_counts()"
   ]
  },
  {
   "cell_type": "markdown",
   "id": "9626fc29",
   "metadata": {},
   "source": [
    "#### Feature Creation"
   ]
  },
  {
   "cell_type": "markdown",
   "id": "17f26363",
   "metadata": {},
   "source": [
    "##### Number of Features to be created\n",
    "1. Length - ✅\n",
    "2. freq Alphabets (Caps  & Small) - ✅\n",
    "3. freq Numericals - ✅\n",
    "4. freq Special Characters - ✅\n",
    "5. Commonly used characters/ unique char - ✅\n",
    "\n",
    "Below features will be created if model accuracy is low\n",
    "\n",
    "6. Contains sequence ? \n",
    "7. Contains repetition of characters ? more than 3 letters \n",
    "8. Contains a repeated phrase ?"
   ]
  },
  {
   "cell_type": "code",
   "execution_count": null,
   "id": "b59f5209",
   "metadata": {},
   "outputs": [],
   "source": [
    "df = df_raw.copy()\n",
    "df['length'] = df['password'].apply(len)\n",
    "df['caps_alpbts'] = df['password'].apply(lambda x : len(re.findall('[A-Z]', x)))/df['length']\n",
    "df['small_alpbts'] = df['password'].apply(lambda x : len(re.findall('[a-z]', x)))/df['length']\n",
    "df['num'] = df['password'].apply(lambda x : len(re.findall('[0-9]', x)))/df['length']\n",
    "df['comon_chars'] = df['password'].apply(lambda x : len(re.findall('[@_!#$%^&*()<>?/\\\\|{ }~:\\\\[\\\\]]', x)))/df['length']\n",
    "df['unique_chars'] = df['password'].apply(lambda x : len(re.findall('[^a-zA-Z0-9@_!#$%^&*()+-<>?/\\|{ }~:\\\\[\\\\]]', x)))/df['length']\n",
    "# df['repetition'] = \n",
    "df.head()"
   ]
  },
  {
   "cell_type": "code",
   "execution_count": null,
   "id": "e0d892ef",
   "metadata": {},
   "outputs": [],
   "source": [
    "df[df['unique_chars'] != 0]"
   ]
  },
  {
   "cell_type": "markdown",
   "id": "fcb27e19",
   "metadata": {},
   "source": [
    "#### EDA 2"
   ]
  },
  {
   "cell_type": "code",
   "execution_count": null,
   "id": "5973792b",
   "metadata": {},
   "outputs": [],
   "source": [
    "# profile = ProfileReport(df, title=\"Profiling Report\")\n",
    "# profile.to_file(output_file = 'output.html')"
   ]
  },
  {
   "cell_type": "code",
   "execution_count": null,
   "id": "8256e392",
   "metadata": {},
   "outputs": [],
   "source": [
    "new = df.groupby('strength').agg(\n",
    "    count=('length', 'size'),\n",
    "    min_length=('length', 'min'),\n",
    "    max_length=('length', 'max')\n",
    ").reset_index()\n",
    "\n",
    "new"
   ]
  },
  {
   "cell_type": "code",
   "execution_count": null,
   "id": "83b23d24",
   "metadata": {},
   "outputs": [],
   "source": [
    "fig = px.box(df, x='strength', y='length', color='strength')\n",
    "fig.show()"
   ]
  },
  {
   "cell_type": "markdown",
   "id": "a84c0f1d",
   "metadata": {},
   "source": [
    "##### Count Plots"
   ]
  },
  {
   "cell_type": "code",
   "execution_count": null,
   "id": "ac9c616a",
   "metadata": {},
   "outputs": [],
   "source": [
    "fig = px.histogram(df.sort_values(by=['strength']), x='length', color='strength', barmode='stack',\n",
    "                   title='Password Length Distribution by Strength',\n",
    "                   labels={'length': 'Password Length', 'count': 'Count'})\n",
    "\n",
    "# Show the plot\n",
    "fig.show()"
   ]
  },
  {
   "cell_type": "code",
   "execution_count": null,
   "id": "cca7f1b6",
   "metadata": {},
   "outputs": [],
   "source": [
    "df_grouped = df.groupby(['strength', 'length']).size().reset_index(name='count')\n",
    "\n",
    "px.line(df_grouped, x='length', y='count', color='strength')"
   ]
  },
  {
   "cell_type": "markdown",
   "id": "a483919e",
   "metadata": {},
   "source": [
    "#### Data prepration for modelling"
   ]
  },
  {
   "cell_type": "code",
   "execution_count": null,
   "id": "61e6c646",
   "metadata": {},
   "outputs": [],
   "source": [
    "# Train Test Data Split\n",
    "x = df.drop(columns=['password', 'strength', 'length'])\n",
    "y = df['strength'].values\n",
    "\n",
    "x_train, x_test, y_train, y_test = train_test_split(x, y, test_size=0.2, random_state=42)"
   ]
  },
  {
   "cell_type": "markdown",
   "id": "44523d0b",
   "metadata": {},
   "source": [
    "#### Model"
   ]
  },
  {
   "cell_type": "code",
   "execution_count": null,
   "id": "d86351dc",
   "metadata": {},
   "outputs": [],
   "source": [
    "def model_metrics(model, actuals, prediction):    \n",
    "    sns.heatmap(confusion_matrix(actuals, prediction), annot=True, fmt='d', annot_kws={\"size\": 14})\n",
    "    plt.xlabel('Predicted Categories')\n",
    "    plt.ylabel('Actual Categories')\n",
    "    plt.title('Confusion Matrix')\n",
    "\n",
    "    df_feature_imp = pd.DataFrame({'feature':model.get_booster().feature_names, 'feature_importance':model.feature_importances_})\n",
    "    fig = px.bar(df_feature_imp, x='feature', y='feature_importance')\n",
    "    fig.show()\n",
    "\n",
    "    print(classification_report(actuals, prediction))"
   ]
  },
  {
   "cell_type": "markdown",
   "id": "3d4a86d6",
   "metadata": {},
   "source": [
    "##### Base model"
   ]
  },
  {
   "cell_type": "code",
   "execution_count": null,
   "id": "0d162ee1",
   "metadata": {},
   "outputs": [],
   "source": [
    "base_model = xgb.XGBClassifier(n_estimators=2, max_depth=2, learning_rate=1, objective='binary:logistic')\n",
    "base_model.fit(x_train, y_train)\n",
    "base_pred = base_model.predict(x_test)\n",
    "\n",
    "accuracy_score(y_test, base_pred)"
   ]
  },
  {
   "cell_type": "code",
   "execution_count": null,
   "id": "d7cc020b",
   "metadata": {},
   "outputs": [],
   "source": [
    "model_metrics(base_model, y_test, base_pred)"
   ]
  },
  {
   "cell_type": "markdown",
   "id": "272beaf2",
   "metadata": {},
   "source": [
    "##### Hyperparameter Tuning : Grid Search"
   ]
  },
  {
   "cell_type": "code",
   "execution_count": null,
   "id": "f66d3b13",
   "metadata": {},
   "outputs": [],
   "source": [
    "# param_grid = {\n",
    "#     'n_estimators': [50, 100, 200],\n",
    "#     'max_depth': [3, 4, 5],\n",
    "#     'learning_rate': [0.01, 0.1, 0.2],\n",
    "#     'subsample': [0.8, 1.0],\n",
    "#     'colsample_bytree': [0.8, 1.0],\n",
    "#     'gamma': [0, 0.1, 0.2],\n",
    "#     'reg_alpha': [0, 0.1, 1],\n",
    "#     'reg_lambda': [1, 1.5, 2],\n",
    "#     'objective': 'binary:logistic'\n",
    "# }\n",
    "\n",
    "# param_grid = {\n",
    "#     'n_estimators': [100, 200, 300],\n",
    "#     'learning_rate': [0.01, 0.1, 0.2],\n",
    "#     'max_depth': [3, 5, 7],\n",
    "#     'min_child_weight': [1, 3, 5],\n",
    "#     'subsample': [0.7, 0.8, 1.0],\n",
    "#     'colsample_bytree': [0.7, 0.8, 1.0],\n",
    "#     'gamma': [0, 0.1, 0.3],\n",
    "#     'reg_alpha': [0, 0.1, 0.5],\n",
    "#     'reg_lambda': [1, 1.5, 2.0],\n",
    "#     'objective': 'binary:logistic'\n",
    "# }\n",
    "\n",
    "# model_grid = xgb.XGBClassifier()\n",
    "# grid_search = GridSearchCV(estimator=model_grid, param_grid=param_grid, cv=3, scoring='accuracy', n_jobs=-1, verbose=2)\n",
    "# grid_search.fit(x_train, y_train)\n",
    "# print(\"Best Parameters: \", grid_search.best_params_)\n",
    "# print(\"Best Score: \", grid_search.best_score_)"
   ]
  },
  {
   "cell_type": "markdown",
   "id": "649b286c",
   "metadata": {},
   "source": [
    "Run time - 298m 21.6s\n",
    "\n",
    "Avg fit - 2s\n",
    "\n",
    "Best Parameters:  {'colsample_bytree': 1.0, 'gamma': 0.1, 'learning_rate': 0.2, 'max_depth': 5, 'n_estimators': 200, 'reg_alpha': 0, 'reg_lambda': 1.5, 'subsample': 0.8}\n",
    "Best Score:  0.9498255580446869"
   ]
  },
  {
   "cell_type": "code",
   "execution_count": null,
   "id": "f0b03f87",
   "metadata": {},
   "outputs": [],
   "source": [
    "new_params = {\n",
    "    'colsample_bytree': 1.0, \n",
    "    'gamma': 0.1, \n",
    "    'learning_rate': 0.2, \n",
    "    'max_depth': 5, \n",
    "    'n_estimators': 200, \n",
    "    'reg_alpha': 0, \n",
    "    'reg_lambda': 1.5, \n",
    "    'subsample': 0.8,\n",
    "    'objective': 'binary:logistic'\n",
    "}\n",
    "\n",
    "new_model = xgb.XGBClassifier(**new_params)\n",
    "new_model.fit(x_train, y_train)\n",
    "new_pred = new_model.predict(x_test)\n",
    "\n",
    "accuracy_score(y_test, new_pred)"
   ]
  },
  {
   "cell_type": "code",
   "execution_count": null,
   "id": "828e2da1",
   "metadata": {},
   "outputs": [],
   "source": [
    "model_metrics(new_model, y_test, new_pred)"
   ]
  },
  {
   "cell_type": "code",
   "execution_count": null,
   "id": "0fd84b70",
   "metadata": {},
   "outputs": [],
   "source": [
    "xgb.to_graphviz(new_model, num_trees=0, format='dot').render(\"xgboost_tree\")"
   ]
  },
  {
   "cell_type": "markdown",
   "id": "9452e2bc",
   "metadata": {},
   "source": [
    "#### Further Analysis on 0 and 1 predictions"
   ]
  },
  {
   "cell_type": "code",
   "execution_count": null,
   "id": "bdd67dbf",
   "metadata": {},
   "outputs": [],
   "source": [
    "df_result = pd.concat([x_test.reset_index(drop=True), pd.DataFrame(data=y_test, columns=['actual']), pd.DataFrame(data=new_pred, columns=['predicted'])], axis=1)\n",
    "df_result.index = x_test.index\n",
    "df_result.shape"
   ]
  },
  {
   "cell_type": "code",
   "execution_count": null,
   "id": "7e8116b0",
   "metadata": {},
   "outputs": [],
   "source": [
    "df_result.head()"
   ]
  },
  {
   "cell_type": "code",
   "execution_count": null,
   "id": "aee92434",
   "metadata": {},
   "outputs": [],
   "source": [
    "filtered_df = df_result[(df_result['actual'] != df_result['predicted']) & (df_result['actual'].isin([0,1]) | df_result['predicted'].isin([0,1]))]\n",
    "filtered_df.head()"
   ]
  },
  {
   "cell_type": "code",
   "execution_count": null,
   "id": "e0408f4b",
   "metadata": {},
   "outputs": [],
   "source": [
    "df2 = pd.concat([df[['password', 'strength', 'length']], filtered_df], axis=1).dropna(subset=['actual'])\n",
    "display(df2.head())\n",
    "df2.shape"
   ]
  },
  {
   "cell_type": "markdown",
   "id": "12422de1",
   "metadata": {},
   "source": [
    "### Approach 2 : NLP - Tfidf Vectorization"
   ]
  },
  {
   "cell_type": "markdown",
   "id": "4589f548",
   "metadata": {},
   "source": [
    "#### Explore"
   ]
  },
  {
   "cell_type": "code",
   "execution_count": null,
   "id": "98ee7d6b",
   "metadata": {},
   "outputs": [],
   "source": [
    "from sklearn.feature_extraction.text import TfidfVectorizer\n",
    "from sklearn.ensemble import RandomForestClassifier\n",
    "from sklearn.linear_model import LogisticRegression\n",
    "\n",
    "def feature_creation(df : pd.DataFrame) -> pd.DataFrame:\n",
    "    df_raw.dropna(inplace=True)\n",
    "    df['password'] = df['password'].astype(str)\n",
    "    df['length'] = df['password'].apply(len)\n",
    "    df['caps_alpbts'] = df['password'].apply(lambda x : len(re.findall('[A-Z]', x)))/df['length']\n",
    "    df['small_alpbts'] = df['password'].apply(lambda x : len(re.findall('[a-z]', x)))/df['length']\n",
    "    df['num'] = df['password'].apply(lambda x : len(re.findall('[0-9]', x)))/df['length']\n",
    "    df['comon_chars'] = df['password'].apply(lambda x : len(re.findall('[@_!#$%^&*()<>?/\\\\|{ }~:\\\\[\\\\]]', x)))/df['length']\n",
    "    df['unique_chars'] = df['password'].apply(lambda x : len(re.findall('[^a-zA-Z0-9@_!#$%^&*()+-<>?/\\|{ }~:\\\\[\\\\]]', x)))/df['length']\n",
    "    return df\n",
    "\n",
    "df = feature_creation(df_raw)\n",
    "\n",
    "x_temp = np.array(df[\"password\"])\n",
    "y = np.array(df[\"strength\"])"
   ]
  },
  {
   "cell_type": "code",
   "execution_count": null,
   "id": "0dac6794",
   "metadata": {},
   "outputs": [],
   "source": [
    "tfidf = TfidfVectorizer(analyzer=\"char\", lowercase=False, token_pattern=None)\n",
    "x_temp = tfidf.fit_transform(x_temp).toarray()"
   ]
  },
  {
   "cell_type": "code",
   "execution_count": null,
   "id": "e4e1f135",
   "metadata": {},
   "outputs": [],
   "source": [
    "print('Shape x_temp :', x_temp.shape)\n",
    "print('Shape df :', df.iloc[:,3:].shape)"
   ]
  },
  {
   "cell_type": "code",
   "execution_count": null,
   "id": "016fd938",
   "metadata": {},
   "outputs": [],
   "source": [
    "x = np.concatenate((x_temp, df.iloc[:,3:].values), axis=1)\n",
    "x.shape"
   ]
  },
  {
   "cell_type": "code",
   "execution_count": null,
   "id": "0bdec9af",
   "metadata": {},
   "outputs": [],
   "source": [
    "np.concatenate((tfidf.get_feature_names_out(), df.columns[3:]))"
   ]
  },
  {
   "cell_type": "code",
   "execution_count": null,
   "id": "a06fe48b",
   "metadata": {},
   "outputs": [],
   "source": [
    "list(df.columns[3:])"
   ]
  },
  {
   "cell_type": "code",
   "execution_count": null,
   "id": "2da7cd48",
   "metadata": {},
   "outputs": [],
   "source": [
    "x_train, x_test, y_train, y_test = train_test_split(x, y, test_size=0.2, random_state=0)"
   ]
  },
  {
   "cell_type": "code",
   "execution_count": null,
   "id": "1c25728b",
   "metadata": {},
   "outputs": [],
   "source": [
    "rf_model = RandomForestClassifier(n_jobs=-1)\n",
    "rf_model.fit(x_train, y_train)\n",
    "print(\"Score of the model is\", rf_model.score(x_test, y_test), \".\")"
   ]
  },
  {
   "cell_type": "code",
   "execution_count": null,
   "id": "0d19457e",
   "metadata": {},
   "outputs": [],
   "source": [
    "new_params = {\n",
    "    'colsample_bytree': 1.0, \n",
    "    'gamma': 0.1, \n",
    "    'learning_rate': 0.2, \n",
    "    'max_depth': 5, \n",
    "    'n_estimators': 200, \n",
    "    'reg_alpha': 0.6, \n",
    "    'reg_lambda': 1.5, \n",
    "    'subsample': 0.8\n",
    "}\n",
    "\n",
    "xgb_model = xgb.XGBClassifier(**new_params)\n",
    "xgb_model.fit(x_train, y_train)\n",
    "new_pred_data = xgb_model.predict(x_test)\n",
    "\n",
    "xgb_model.score(x_test, y_test)"
   ]
  },
  {
   "cell_type": "code",
   "execution_count": null,
   "id": "aa025628",
   "metadata": {},
   "outputs": [],
   "source": [
    "logistic_model = LogisticRegression()\n",
    "logistic_model.fit(x_train, y_train)\n",
    "logistic_pred = logistic_model.predict(x_test)\n",
    "\n",
    "logistic_model.score(x_test, y_test)"
   ]
  },
  {
   "cell_type": "code",
   "execution_count": null,
   "id": "9d076f7a",
   "metadata": {},
   "outputs": [],
   "source": [
    "user = [\"ckep4 2DS\"]\n",
    "data = tfidf.transform(user)\n",
    "output0 = logistic_model.predict(data)\n",
    "output1 = rf_model.predict(data)\n",
    "output2 = xgb_model.predict(data)\n",
    "print(\"Output 0 - Logistic Regression :\", output0)\n",
    "print(\"Output 1 - RandomForest :\", output1)\n",
    "print(\"Output 2 - XGBoost :\", output2)"
   ]
  }
 ],
 "metadata": {
  "kernelspec": {
   "display_name": "Python 3 (ipykernel)",
   "language": "python",
   "name": "python3"
  },
  "language_info": {
   "codemirror_mode": {
    "name": "ipython",
    "version": 3
   },
   "file_extension": ".py",
   "mimetype": "text/x-python",
   "name": "python",
   "nbconvert_exporter": "python",
   "pygments_lexer": "ipython3",
   "version": "3.12.4"
  }
 },
 "nbformat": 4,
 "nbformat_minor": 5
}
